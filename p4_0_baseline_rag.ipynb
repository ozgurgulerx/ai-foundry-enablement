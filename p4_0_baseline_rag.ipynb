{
 "cells": [
  {
   "cell_type": "markdown",
   "id": "1dbf67af",
   "metadata": {},
   "source": [
    "### 1.0 Create an Azure AI Search Index \n"
   ]
  },
  {
   "cell_type": "code",
   "execution_count": null,
   "id": "3a5d7199",
   "metadata": {},
   "outputs": [],
   "source": [
    "# create_index.py  – builds a Vector-only index\n",
    "from dotenv import load_dotenv\n",
    "import os\n",
    "from azure.core.credentials import AzureKeyCredential\n",
    "from azure.search.documents.indexes import SearchIndexClient\n",
    "from azure.search.documents.indexes.models import (\n",
    "    SearchIndex,\n",
    "    SimpleField, SearchField, SearchFieldDataType,\n",
    "    VectorSearch, VectorSearchProfile,\n",
    "    VectorSearchAlgorithmConfiguration, VectorSearchAlgorithmKind,\n",
    "    HnswParameters,\n",
    ")\n",
    "\n",
    "# 1️⃣  load .env\n",
    "load_dotenv()\n",
    "ENDPOINT   = os.getenv(\"AZURE_SEARCH_ENDPOINT\")\n",
    "ADMIN_KEY  = os.getenv(\"AZURE_SEARCH_ADMIN_KEY\")\n",
    "INDEX_NAME = os.getenv(\"AZURE_SEARCH_INDEX_NAME\", \"index01\")\n",
    "if not ENDPOINT or not ADMIN_KEY:\n",
    "    raise RuntimeError(\"Search endpoint or admin key missing in .env\")\n",
    "\n",
    "# 2️⃣  vector section ─ algorithms + profile\n",
    "algo_cfg = VectorSearchAlgorithmConfiguration(\n",
    "    name=\"hnsw-cosine\",\n",
    "    kind=VectorSearchAlgorithmKind.HNSW,\n",
    "    parameters=HnswParameters(metric=\"cosine\")\n",
    ")\n",
    "\n",
    "vector_search = VectorSearch(\n",
    "    algorithms=[algo_cfg],\n",
    "    profiles=[VectorSearchProfile(\n",
    "        name=\"v1\",\n",
    "        algorithm_configuration_name=\"hnsw-cosine\"\n",
    "    )]\n",
    ")\n",
    "\n",
    "# 3️⃣  minimal fields: only key + vector\n",
    "fields = [\n",
    "    SimpleField(name=\"id\", type=SearchFieldDataType.String, key=True, filterable=True),\n",
    "    SearchField(\n",
    "        name=\"contentVector\",\n",
    "        type=SearchFieldDataType.Collection(SearchFieldDataType.Single),\n",
    "        searchable=True,\n",
    "        vector_search_dimensions=1536,\n",
    "        vector_search_profile_name=\"v1\"\n",
    "    ),\n",
    "]\n",
    "\n",
    "index = SearchIndex(name=INDEX_NAME, fields=fields, vector_search=vector_search)\n",
    "\n",
    "# 4️⃣  push the index\n",
    "client = SearchIndexClient(ENDPOINT, AzureKeyCredential(ADMIN_KEY))\n",
    "print(f\"Creating / updating index “{INDEX_NAME}”…\")\n",
    "client.create_or_update_index(index)\n",
    "print(\"✅  Vector-only index created\")\n"
   ]
  }
 ],
 "metadata": {
  "language_info": {
   "name": "python"
  }
 },
 "nbformat": 4,
 "nbformat_minor": 5
}
