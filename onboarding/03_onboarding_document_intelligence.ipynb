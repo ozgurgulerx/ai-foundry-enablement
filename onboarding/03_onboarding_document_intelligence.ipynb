{
 "cells": [
  {
   "cell_type": "markdown",
   "id": "9334b0b1",
   "metadata": {},
   "source": [
    "## Azure Document Intelligence Service Onboarding \n",
    "\n",
    "We use the Azure Document Intelligence Service for the OCR - turning pdf's to txt in document intelligence use-case. The reason to use the service rather than using a python library like PyPDF is the added complexity OCR services are expected to handle with scanned documents as well as to address the \"noise\" they add to text with prompt engineering. \n",
    "\n",
    "Process is very similar to creating an AI Search Service instance. \n",
    "Locate the document intelligence service in Azure portal, create the service, copy service endpoint and the API key and record the information in .env to be recalled later."
   ]
  },
  {
   "cell_type": "markdown",
   "id": "6d68f0c2",
   "metadata": {},
   "source": [
    "![Document Intelligence-01](./images/documentintelligence01.png)\n",
    "![Document Intelligence-02](./images/documentintelligence02.png)\n",
    "![Document Intelligence-03](./images/documentintelligence03.png)\n",
    "![Document Intelligence-04](./images/documentintelligence04.png)\n",
    "![Document Intelligence-05](./images/documentintelligence05.png)\n",
    "![Document Intelligence-06](./images/documentintelligence06.png)\n",
    "![Document Intelligence-07](./images/documentintelligence07.png)\n"
   ]
  },
  {
   "cell_type": "markdown",
   "id": "1767c9ec",
   "metadata": {},
   "source": [
    "#### UPDATE your .env with DOC Intelligence Service credentials \n",
    "\n",
    "```bash\n",
    "# Azure OpenAI Service Configuration\n",
    "AZURE_OPENAI_API_KEY=\"XXXX\"\n",
    "AZURE_OPENAI_ENDPOINT=\"XXXX\"\n",
    "AZURE_OPENAI_API_VERSION=\"2024-12-01-preview\"\n",
    "AZURE_OPENAI_DEPLOYMENT_NAME=\"gpt-4.1\"\n",
    "AZURE_OPENAI_REASONING_DEPLOYMENT_NAME=\"o4-mini\"\n",
    "AZURE_REASONING_OPENAI_API_VERSION=\"2025-04-01-preview\"\n",
    "AZURE_TEXT_EMBEDDING_DEPLOYMENT_NAME=\"text-embedding-3-small\"\n",
    "\n",
    "# Azure AI Search Service Configuration\n",
    "AZURE_SEARCH_ENDPOINT= \"https://[XXXX].search.windows.net\"\n",
    "AZURE_SEARCH_API_KEY= \"XXXX\"\n",
    "AZURE_SEARCH_API_VER=\"2024-07-01\"\n",
    "\n",
    "# Azure Document Intelligence Configuration\n",
    "DOCUMENTINTELLIGENCE_ENDPOINT=\"https://XXXX.cognitiveservices.azure.com/\"\n",
    "DOCUMENTINTELLIGENCE_API_KEY=\"XXXX\"\n",
    "```\n",
    "\n"
   ]
  }
 ],
 "metadata": {
  "language_info": {
   "name": "python"
  }
 },
 "nbformat": 4,
 "nbformat_minor": 5
}
