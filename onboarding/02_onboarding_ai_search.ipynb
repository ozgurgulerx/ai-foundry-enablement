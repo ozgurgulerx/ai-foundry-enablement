{
 "cells": [
  {
   "cell_type": "markdown",
   "id": "1a87b8a2",
   "metadata": {},
   "source": [
    "## AI Foundry Onboarding \n",
    "\n",
    "[**Azure AI Search**](https://learn.microsoft.com/en-us/azure/search/) is the purpose built vector db we will use to index and store embeddings during the labs...\n",
    "Please follow the below step by step process to launch an AI instance that we will use during the workshop. \n",
    "\n",
    "First we will create an AI Search instance. \\\n",
    "For the purposes of this lab each attendee can create their own instance in free tier and work with that instance. Free tier (F) allows max 3 indexes on it. \n",
    "\n",
    "Another option is that a single AI Search instance (e.g. in Standard (S) tier can be created where each attendee would create their own index on that instance they would work with. This will decrease the complexity of each attendee managing their own AI Search endpoint and API key's in their apps. Ultimately the choice will be on attendees.\n",
    "\n",
    "\n",
    "### Creating the Azure AI Search Service Instance \n",
    "![Porta - accessing AI Search service](./images/aisearch01.png)\n",
    "On Azure Portal look for the \"AI Search Service\".\n",
    "\n",
    "![Creating an AI Search Service instance](./images/aisearch02.png)\n",
    "Choose \"Create\" to create a new instance...\n",
    "\n",
    "![Portal - accessing AI Search service](./images/aisearch03.png)\n",
    "Above are the service tiers and their usage limits...\n",
    "\n",
    "![Portal - accessing AI Search service](./images/aisearch04.png)\n",
    "Type in an instance name, choose your resource-group (or preferably create a new one), keep everything else as default e.g. connectivity - public and create the instance...\n",
    "Any **region** would be fine for the deployment although will be good to match regions for the AI Foundry project deployment region as in this case AI Foundry will automatically recognise and import the connection for easier use with AI Foundry SDK. This is not a concern for us for the purposes of this lab. \n",
    "Once successfully submitted, the initialisation will start for the service instance deployment and you will see a message like the below once the service successfully deployed in 1 minute usually.\n",
    "\n",
    "![Portal - accessing AI Search service](./images/aisearch05.png)\n",
    "\n",
    "### Accessing the AI Search Service \n",
    "The newly created AI Search Service will be reachable from outside world since we did not restrict access to the service endpoint during service creation. You can confirm service access via the \"Networking\" tab for your specific instance. \n",
    "\n",
    "![Accessing AI Search service](./images/aisearch06.png)\n",
    "\n",
    "To access the service you will need a service endpoint and the API key(s). \n",
    "\n",
    "\n",
    "![Accessing AI Search service - Service URL](./images/aisearch07.png)\n",
    "Find the service endpoint URL on the \"Overview\" tab. \\\n",
    "\n",
    "\n",
    "\n",
    "![Accessing AI Search service - API Key](./images/aisearch08.png)\n",
    "Find the service API keys under Settings / Keys under service instance.\n",
    "\n"
   ]
  },
  {
   "cell_type": "markdown",
   "id": "25e3996e",
   "metadata": {},
   "source": [
    "### Checking connectivity to the service \n",
    "\n",
    "Check connectivity to the service with the below by adding your service url and API key...\n",
    "\n",
    "```bash\n",
    "curl -X GET \"https://<your-search-service>.search.windows.net/indexes?api-version=2023-07-01-preview\" \\\n",
    "  -H \"api-key: <your-admin-key>\"\n",
    "```\n",
    "\n",
    "When successful, you will see...\n",
    "```bash \n",
    "{\"@odata.context\":\"https://aisearchozgulerxx.search.windows.net/$metadata#indexes\",\"value\":[]}%\n",
    "```\n",
    "\n",
    "\n"
   ]
  },
  {
   "cell_type": "markdown",
   "id": "e2a7d8f7",
   "metadata": {
    "vscode": {
     "languageId": "plaintext"
    }
   },
   "source": [
    "### Updating .env with Azure AI Search Service Credentials \n",
    "\n",
    "Now add the Azure AI Search AI service endpoint as well as the API key, to your .env file. (.env file will reside in the repo root folder following git clone). \\\n",
    "Keep the API version as \"2024-07-01\".\n",
    "\n",
    "\n",
    "```bash\n",
    "# Azure OpenAI Service Configuration\n",
    "AZURE_OPENAI_API_KEY=\"XXXX\"\n",
    "AZURE_OPENAI_ENDPOINT=\"XXXX\"\n",
    "AZURE_OPENAI_API_VERSION=\"2024-12-01-preview\"\n",
    "AZURE_OPENAI_DEPLOYMENT_NAME=\"gpt-4.1\"\n",
    "AZURE_OPENAI_REASONING_DEPLOYMENT_NAME=\"o4-mini\"\n",
    "AZURE_REASONING_OPENAI_API_VERSION=\"2025-04-01-preview\"\n",
    "AZURE_TEXT_EMBEDDING_DEPLOYMENT_NAME=\"text-embedding-3-small\"\n",
    "\n",
    "# Azure AI Search Service Configuration\n",
    "AZURE_SEARCH_ENDPOINT= \"https://[XXXX].search.windows.net\"\n",
    "AZURE_SEARCH_API_KEY= \"XXXX\"\n",
    "AZURE_SEARCH_API_VER=\"2024-07-01\"\n",
    "```\n",
    "\n",
    "Now, we are ready to work on this instance with RAG..."
   ]
  }
 ],
 "metadata": {
  "language_info": {
   "name": "python"
  }
 },
 "nbformat": 4,
 "nbformat_minor": 5
}
