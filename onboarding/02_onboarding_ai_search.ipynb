{
 "cells": [
  {
   "cell_type": "markdown",
   "id": "1a87b8a2",
   "metadata": {},
   "source": [
    "## AI Foundry Onboarding \n",
    "\n",
    "[**Azure AI Search**](https://learn.microsoft.com/en-us/azure/search/) is the purpose built vector db we will use to index and store embeddings during the labs...\n",
    "Please follow the below step by step process to launch an AI instance that we will use during the workshop. \n",
    "\n",
    "First we will create an AI Search instance. \\\n",
    "For the purposes of this lab each attendee can create their own instance in free tier and work with that instance. Free tier (F) allows max 3 indexes on it. \n",
    "\n",
    "Another option is that a single AI Search instance (e.g. in Standard (S) tier can be created where each attendee would create their own index on that instance they would work with. This will decrease the complexity of each attendee managing their own AI Search endpoint and API key's in their apps. Ultimately the choice will be on attendees.\n",
    "\n",
    "\n",
    "### Creating the Azure AI Search Service Instance \n",
    "![Porta - accessing AI Search service](./images/aisearch01.png)\n",
    "On Azure Portal look for the \"AI Search Service\".\n",
    "\n",
    "![Creating an AI Search Service instance](./images/aisearch02.png)\n",
    "Choose \"Create\" to create a new instance...\n",
    "\n",
    "![Portal - accessing AI Search service](./images/aisearch03.png)\n",
    "Above are the service tiers and their usage limits...\n",
    "\n",
    "![Portal - accessing AI Search service](./images/aisearch04.png)\n",
    "Type in an instance name, choose your resource-group (or preferably create a new one), keep everything else as default e.g. connectivity - public and create the instance...\n",
    "Any **region** would be fine for the deployment although will be good to match regions for the AI Foundry project deployment region as in this case AI Foundry will automatically recognise and import the connection for easier use with AI Foundry SDK. This is not a concern for us for the purposes of this lab. \n",
    "Once successfully submitted, the initialisation will start for the service instance deployment and you will see a message like the below once the service successfully deployed in 1 minute usually.\n",
    "\n",
    "![Portal - accessing AI Search service](./images/aisearch05.png)\n",
    "\n",
    "\n"
   ]
  }
 ],
 "metadata": {
  "language_info": {
   "name": "python"
  }
 },
 "nbformat": 4,
 "nbformat_minor": 5
}
